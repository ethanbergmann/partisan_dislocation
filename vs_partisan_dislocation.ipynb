{
 "cells": [
  {
   "cell_type": "code",
   "execution_count": 1,
   "metadata": {},
   "outputs": [],
   "source": [
    "# import libraries\n",
    "import numpy as np\n",
    "from scipy.spatial import cKDTree\n",
    "import geopandas as gpd\n",
    "import pandas as pd\n",
    "from shapely.geometry import Point\n",
    "from shapely.geometry import Polygon\n",
    "import random\n",
    "import os"
   ]
  },
  {
   "cell_type": "code",
   "execution_count": 2,
   "metadata": {},
   "outputs": [],
   "source": [
    "def get_geodataframe(precinct_file, district_file, data_path='../data'):\n",
    "    \"Read the precinct and district files from the defined data path and return precinct and district geodataframes\"\n",
    "\n",
    "    # read the geopandas precinct file\n",
    "    fpath_precinct = os.path.join(data_path, precinct_file)\n",
    "    precinct_gdf = gpd.read_file(fpath_precinct)\n",
    "\n",
    "    # read the geopandas district file\n",
    "    fpath_district = os.path.join(data_path, district_file)\n",
    "    district_gdf = gpd.read_file(fpath_district)\n",
    "\n",
    "    return precinct_gdf, district_gdf"
   ]
  },
  {
   "cell_type": "code",
   "execution_count": 3,
   "metadata": {},
   "outputs": [],
   "source": [
    "def _make_random_points(number, polygon):\n",
    "    #Generates number of uniformly distributed points in polygon\n",
    "    points = []\n",
    "    min_x, min_y, max_x, max_y = polygon.bounds\n",
    "    i= 0\n",
    "    while i < number:\n",
    "        point = Point(random.uniform(min_x, max_x), random.uniform(min_y, max_y))\n",
    "        if polygon.contains(point):\n",
    "            points.append(point)\n",
    "            i += 1\n",
    "    return points"
   ]
  },
  {
   "cell_type": "code",
   "execution_count": 4,
   "metadata": {},
   "outputs": [],
   "source": [
    "def random_points_in_polygon(precincts, p=0.01,\n",
    "                             dem_vote_count_column=\"D\",\n",
    "                             repub_vote_count_column=\"R\",\n",
    "                             dem_uniform_swing=0,\n",
    "                             random_seed=None):\n",
    "    \"\"\"\n",
    "    :param precincts: :class:`geopandas.GeoDataFrame`\n",
    "                      This is a polygon shapefile with vote totals.\n",
    "    :param p: Sampling parameter.\n",
    "              Probability of voter inclusion; inverse of number\n",
    "              of actual voters represented by each representative\n",
    "              voter.\n",
    "    :param dem_vote_count_column: (default=\"dem\")\n",
    "              Name of column with Democratic vote counts per precinct.\n",
    "    :param repub_vote_count_column: (default=\"rep\")\n",
    "              Name of column with Republican vote counts per precinct.\n",
    "    :param random_seed: (default=None)\n",
    "              Random state or seed passed to numpy.\n",
    "    \"\"\"\n",
    "    # Make master dataframe\n",
    "    gf = gpd.GeoDataFrame(columns=['Dem', 'KnnShrDem', 'geometry'])\n",
    "    election = \"P2008_\"\n",
    "    for index, row in precincts.iterrows():\n",
    "        # Loop over dems and republicans\n",
    "        for party in [dem_vote_count_column, repub_vote_count_column]:\n",
    "            points_to_add = np.random.binomial(int(row[election + party]), p)\n",
    "            points = _make_random_points(points_to_add, row.geometry)\n",
    "            for point in points:\n",
    "                if party == \"D\":\n",
    "                    dem_value = 1\n",
    "                else:\n",
    "                    dem_value = 0\n",
    "\n",
    "                gf = gf.append({'Dem': dem_value, 'KnnShrDem': None, 'geometry': point}, ignore_index=True)\n",
    "\n",
    "    gf['Dem'] = gf['Dem'].astype(int)\n",
    "    gf['KnnShrDem'] = gf['KnnShrDem'].astype(None)\n",
    "\n",
    "    return gf"
   ]
  },
  {
   "cell_type": "code",
   "execution_count": 76,
   "metadata": {},
   "outputs": [],
   "source": [
    "def calculate_voter_knn(voter_points, k, target_column='Dem'):\n",
    "    \"\"\"\n",
    "        Calculation composition of nearest neigbhors.\n",
    "\n",
    "        :param voter_points: :class:`geopandas.GeoDataFrame`.\n",
    "              GeoDataFrame of voter points\n",
    "        :param k: Num nearest neighbors to consider.\n",
    "        :param target_column: Feature to average\n",
    "    \"\"\"\n",
    "\n",
    "    tree = cKDTree(list(zip(voter_points['geometry'].x, voter_points['geometry'].y)))\n",
    "\n",
    "    dd, ii = tree.query(list(zip(voter_points['geometry'].x, voter_points['geometry'].y)), k=k)\n",
    "\n",
    "    its = 0\n",
    "    for index, row in voter_points.iterrows():\n",
    "        voter_points.at[index, f'KnnShr{target_column}'] = sum(voter_points[target_column][ii[its]]) / k\n",
    "        its += 1\n",
    "\n",
    "    return voter_points"
   ]
  },
  {
   "cell_type": "code",
   "execution_count": 6,
   "metadata": {},
   "outputs": [],
   "source": [
    "def calculate_dislocation(voter_points, district, knn_column='KnnShrDem', dem_column='dem'):\n",
    "    \"\"\"\n",
    "        Calculation difference between knn dem share\n",
    "        and dem share of assigned district\n",
    "\n",
    "        :param voter_points: :class:`geopandas.GeoDataFrame`.\n",
    "              GeoDataFrame of voter points.\n",
    "        :param voter_points: :class:`geopandas.GeoDataFrame`.\n",
    "              GeoDataFrame of district polygons.\n",
    "        :param knn_column: Column of `voter_points` with kNN scores\n",
    "    \"\"\"\n",
    "\n",
    "    # Put both geodataframes in common projection\n",
    "    districts = district.to_crs(voter_points.crs)\n",
    "\n",
    "    # Calculate district dem share\n",
    "    dist_voter_point = gpd.sjoin(districts, voter_points, how='inner')\n",
    "\n",
    "    # Calculate democrat share for each district\n",
    "    dist1 = dist_voter_point.groupby(['NAMELSAD']).agg(district_demshare=pd.NamedAgg(column='Dem', aggfunc=np.mean))\n",
    "    dist1 = dist1.reset_index()\n",
    "\n",
    "    # merge the dataframe with democrat share in each district to obtain district democrat share for each voter\n",
    "    final_df = dist_voter_point.merge(dist1, how='left')\n",
    "\n",
    "    # Calculate dislocation score\n",
    "    final_df['dislocation'] = final_df['KnnShrDem'] - final_df['district_demshare']\n",
    "\n",
    "    # Select relevant columns\n",
    "    dislocation_score_df = final_df[['NAMELSAD', 'Dem', 'KnnShrDem', 'district_demshare', 'dislocation', 'geometry']]\n",
    "\n",
    "    # final dataframe with dislocation score calculated for each voter\n",
    "    return dislocation_score_df\n"
   ]
  },
  {
   "cell_type": "code",
   "execution_count": 7,
   "metadata": {},
   "outputs": [
    {
     "name": "stdout",
     "output_type": "stream",
     "text": [
      "False\n"
     ]
    }
   ],
   "source": [
    "df = gpd.GeoDataFrame({'P2008_D': [0, 1], 'P2008_R': [1, 0],\n",
    "                               'geometry': [Polygon([(0, 0), (1, 1), (0, 1)]),\n",
    "                                            Polygon([(0, 0), (1, 1), (0, 1)])]})\n",
    "result = random_points_in_polygon(df, p=1)\n",
    "benchmark = pd.Series([0, 1], name='Dem')\n",
    "print(pd.Series.equals(result['Dem'], benchmark))"
   ]
  },
  {
   "cell_type": "code",
   "execution_count": 8,
   "metadata": {},
   "outputs": [],
   "source": [
    "precinct_gdf, district_gdf = get_geodataframe(\"2008_presidential_precinct_counts.shp\", \"US_cd114th_2014.shp\")"
   ]
  },
  {
   "cell_type": "code",
   "execution_count": 9,
   "metadata": {},
   "outputs": [],
   "source": [
    "nc = precinct_gdf[precinct_gdf.STATE == \"37\"]"
   ]
  },
  {
   "cell_type": "code",
   "execution_count": 10,
   "metadata": {},
   "outputs": [],
   "source": [
    "nc_random_points = random_points_in_polygon(precincts=nc)"
   ]
  },
  {
   "cell_type": "code",
   "execution_count": 78,
   "metadata": {},
   "outputs": [],
   "source": [
    "nc_voter_knn = calculate_voter_knn(voter_points=nc_random_points, k=2)"
   ]
  },
  {
   "cell_type": "code",
   "execution_count": 79,
   "metadata": {},
   "outputs": [],
   "source": [
    "nc_voter_knn.crs = nc.crs  # Set crs attribute"
   ]
  },
  {
   "cell_type": "code",
   "execution_count": 80,
   "metadata": {},
   "outputs": [],
   "source": [
    "nc_dislocation = calculate_dislocation(voter_points=nc_voter_knn, district=district_gdf)"
   ]
  },
  {
   "cell_type": "code",
   "execution_count": 81,
   "metadata": {},
   "outputs": [
    {
     "data": {
      "text/html": [
       "<div>\n",
       "<style scoped>\n",
       "    .dataframe tbody tr th:only-of-type {\n",
       "        vertical-align: middle;\n",
       "    }\n",
       "\n",
       "    .dataframe tbody tr th {\n",
       "        vertical-align: top;\n",
       "    }\n",
       "\n",
       "    .dataframe thead th {\n",
       "        text-align: right;\n",
       "    }\n",
       "</style>\n",
       "<table border=\"1\" class=\"dataframe\">\n",
       "  <thead>\n",
       "    <tr style=\"text-align: right;\">\n",
       "      <th></th>\n",
       "      <th>NAMELSAD</th>\n",
       "      <th>Dem</th>\n",
       "      <th>KnnShrDem</th>\n",
       "      <th>district_demshare</th>\n",
       "      <th>dislocation</th>\n",
       "      <th>geometry</th>\n",
       "    </tr>\n",
       "  </thead>\n",
       "  <tbody>\n",
       "    <tr>\n",
       "      <th>0</th>\n",
       "      <td>Congressional District 1</td>\n",
       "      <td>1</td>\n",
       "      <td>1.0</td>\n",
       "      <td>0.715023</td>\n",
       "      <td>0.284977</td>\n",
       "      <td>MULTIPOLYGON (((3576299.204 8107248.105, 35763...</td>\n",
       "    </tr>\n",
       "    <tr>\n",
       "      <th>1</th>\n",
       "      <td>Congressional District 1</td>\n",
       "      <td>1</td>\n",
       "      <td>1.0</td>\n",
       "      <td>0.715023</td>\n",
       "      <td>0.284977</td>\n",
       "      <td>MULTIPOLYGON (((3576299.204 8107248.105, 35763...</td>\n",
       "    </tr>\n",
       "    <tr>\n",
       "      <th>2</th>\n",
       "      <td>Congressional District 1</td>\n",
       "      <td>0</td>\n",
       "      <td>0.0</td>\n",
       "      <td>0.715023</td>\n",
       "      <td>-0.715023</td>\n",
       "      <td>MULTIPOLYGON (((3576299.204 8107248.105, 35763...</td>\n",
       "    </tr>\n",
       "    <tr>\n",
       "      <th>3</th>\n",
       "      <td>Congressional District 1</td>\n",
       "      <td>0</td>\n",
       "      <td>0.5</td>\n",
       "      <td>0.715023</td>\n",
       "      <td>-0.215023</td>\n",
       "      <td>MULTIPOLYGON (((3576299.204 8107248.105, 35763...</td>\n",
       "    </tr>\n",
       "    <tr>\n",
       "      <th>4</th>\n",
       "      <td>Congressional District 1</td>\n",
       "      <td>1</td>\n",
       "      <td>1.0</td>\n",
       "      <td>0.715023</td>\n",
       "      <td>0.284977</td>\n",
       "      <td>MULTIPOLYGON (((3576299.204 8107248.105, 35763...</td>\n",
       "    </tr>\n",
       "  </tbody>\n",
       "</table>\n",
       "</div>"
      ],
      "text/plain": [
       "                   NAMELSAD  Dem  KnnShrDem  district_demshare  dislocation  \\\n",
       "0  Congressional District 1    1        1.0           0.715023     0.284977   \n",
       "1  Congressional District 1    1        1.0           0.715023     0.284977   \n",
       "2  Congressional District 1    0        0.0           0.715023    -0.715023   \n",
       "3  Congressional District 1    0        0.5           0.715023    -0.215023   \n",
       "4  Congressional District 1    1        1.0           0.715023     0.284977   \n",
       "\n",
       "                                            geometry  \n",
       "0  MULTIPOLYGON (((3576299.204 8107248.105, 35763...  \n",
       "1  MULTIPOLYGON (((3576299.204 8107248.105, 35763...  \n",
       "2  MULTIPOLYGON (((3576299.204 8107248.105, 35763...  \n",
       "3  MULTIPOLYGON (((3576299.204 8107248.105, 35763...  \n",
       "4  MULTIPOLYGON (((3576299.204 8107248.105, 35763...  "
      ]
     },
     "execution_count": 81,
     "metadata": {},
     "output_type": "execute_result"
    }
   ],
   "source": [
    "nc_dislocation.head()"
   ]
  },
  {
   "cell_type": "code",
   "execution_count": 42,
   "metadata": {},
   "outputs": [],
   "source": [
    "tree = cKDTree(list(zip(test['geometry'].x, test['geometry'].y)))\n",
    "\n",
    "dd, ii = tree.query(list(zip(test['geometry'].x, test['geometry'].y)), k=2)\n",
    "its = 0"
   ]
  },
  {
   "cell_type": "code",
   "execution_count": 58,
   "metadata": {},
   "outputs": [],
   "source": [
    "for index, row in test.iterrows():\n",
    "    row['KnnShrDem'] = 2"
   ]
  },
  {
   "cell_type": "code",
   "execution_count": 46,
   "metadata": {},
   "outputs": [
    {
     "data": {
      "text/html": [
       "<div>\n",
       "<style scoped>\n",
       "    .dataframe tbody tr th:only-of-type {\n",
       "        vertical-align: middle;\n",
       "    }\n",
       "\n",
       "    .dataframe tbody tr th {\n",
       "        vertical-align: top;\n",
       "    }\n",
       "\n",
       "    .dataframe thead th {\n",
       "        text-align: right;\n",
       "    }\n",
       "</style>\n",
       "<table border=\"1\" class=\"dataframe\">\n",
       "  <thead>\n",
       "    <tr style=\"text-align: right;\">\n",
       "      <th></th>\n",
       "      <th>Dem</th>\n",
       "      <th>KnnShrDem</th>\n",
       "      <th>geometry</th>\n",
       "    </tr>\n",
       "  </thead>\n",
       "  <tbody>\n",
       "    <tr>\n",
       "      <th>0</th>\n",
       "      <td>1</td>\n",
       "      <td>NaN</td>\n",
       "      <td>POINT (3428778.550 8008995.104)</td>\n",
       "    </tr>\n",
       "    <tr>\n",
       "      <th>1</th>\n",
       "      <td>1</td>\n",
       "      <td>NaN</td>\n",
       "      <td>POINT (3431511.812 8007804.096)</td>\n",
       "    </tr>\n",
       "    <tr>\n",
       "      <th>2</th>\n",
       "      <td>1</td>\n",
       "      <td>NaN</td>\n",
       "      <td>POINT (3432839.395 8009441.985)</td>\n",
       "    </tr>\n",
       "    <tr>\n",
       "      <th>3</th>\n",
       "      <td>0</td>\n",
       "      <td>NaN</td>\n",
       "      <td>POINT (3437220.267 8003770.772)</td>\n",
       "    </tr>\n",
       "    <tr>\n",
       "      <th>4</th>\n",
       "      <td>0</td>\n",
       "      <td>NaN</td>\n",
       "      <td>POINT (3429809.226 8006203.248)</td>\n",
       "    </tr>\n",
       "  </tbody>\n",
       "</table>\n",
       "</div>"
      ],
      "text/plain": [
       "   Dem  KnnShrDem                         geometry\n",
       "0    1        NaN  POINT (3428778.550 8008995.104)\n",
       "1    1        NaN  POINT (3431511.812 8007804.096)\n",
       "2    1        NaN  POINT (3432839.395 8009441.985)\n",
       "3    0        NaN  POINT (3437220.267 8003770.772)\n",
       "4    0        NaN  POINT (3429809.226 8006203.248)"
      ]
     },
     "execution_count": 46,
     "metadata": {},
     "output_type": "execute_result"
    }
   ],
   "source": [
    "test"
   ]
  },
  {
   "cell_type": "code",
   "execution_count": 21,
   "metadata": {},
   "outputs": [
    {
     "data": {
      "text/plain": [
       "pandas.core.series.Series"
      ]
     },
     "execution_count": 21,
     "metadata": {},
     "output_type": "execute_result"
    }
   ],
   "source": [
    "type(test['Dem'])"
   ]
  },
  {
   "cell_type": "code",
   "execution_count": 53,
   "metadata": {},
   "outputs": [
    {
     "name": "stderr",
     "output_type": "stream",
     "text": [
      "C:\\Users\\vivek\\Anaconda3\\envs\\geo\\lib\\site-packages\\pandas\\core\\frame.py:4147: SettingWithCopyWarning: \n",
      "A value is trying to be set on a copy of a slice from a DataFrame\n",
      "\n",
      "See the caveats in the documentation: https://pandas.pydata.org/pandas-docs/stable/user_guide/indexing.html#returning-a-view-versus-a-copy\n",
      "  return super().fillna(\n"
     ]
    }
   ],
   "source": [
    "test.fillna(1, inplace=True)"
   ]
  },
  {
   "cell_type": "code",
   "execution_count": 62,
   "metadata": {},
   "outputs": [
    {
     "data": {
      "text/html": [
       "<div>\n",
       "<style scoped>\n",
       "    .dataframe tbody tr th:only-of-type {\n",
       "        vertical-align: middle;\n",
       "    }\n",
       "\n",
       "    .dataframe tbody tr th {\n",
       "        vertical-align: top;\n",
       "    }\n",
       "\n",
       "    .dataframe thead th {\n",
       "        text-align: right;\n",
       "    }\n",
       "</style>\n",
       "<table border=\"1\" class=\"dataframe\">\n",
       "  <thead>\n",
       "    <tr style=\"text-align: right;\">\n",
       "      <th></th>\n",
       "      <th>Dem</th>\n",
       "      <th>KnnShrDem</th>\n",
       "      <th>geometry</th>\n",
       "    </tr>\n",
       "  </thead>\n",
       "  <tbody>\n",
       "    <tr>\n",
       "      <th>0</th>\n",
       "      <td>1</td>\n",
       "      <td>1.0</td>\n",
       "      <td>POINT (3428778.550 8008995.104)</td>\n",
       "    </tr>\n",
       "    <tr>\n",
       "      <th>1</th>\n",
       "      <td>1</td>\n",
       "      <td>1.0</td>\n",
       "      <td>POINT (3431511.812 8007804.096)</td>\n",
       "    </tr>\n",
       "    <tr>\n",
       "      <th>2</th>\n",
       "      <td>1</td>\n",
       "      <td>1.0</td>\n",
       "      <td>POINT (3432839.395 8009441.985)</td>\n",
       "    </tr>\n",
       "    <tr>\n",
       "      <th>3</th>\n",
       "      <td>0</td>\n",
       "      <td>1.0</td>\n",
       "      <td>POINT (3437220.267 8003770.772)</td>\n",
       "    </tr>\n",
       "    <tr>\n",
       "      <th>4</th>\n",
       "      <td>0</td>\n",
       "      <td>1.0</td>\n",
       "      <td>POINT (3429809.226 8006203.248)</td>\n",
       "    </tr>\n",
       "  </tbody>\n",
       "</table>\n",
       "</div>"
      ],
      "text/plain": [
       "   Dem  KnnShrDem                         geometry\n",
       "0    1        1.0  POINT (3428778.550 8008995.104)\n",
       "1    1        1.0  POINT (3431511.812 8007804.096)\n",
       "2    1        1.0  POINT (3432839.395 8009441.985)\n",
       "3    0        1.0  POINT (3437220.267 8003770.772)\n",
       "4    0        1.0  POINT (3429809.226 8006203.248)"
      ]
     },
     "execution_count": 62,
     "metadata": {},
     "output_type": "execute_result"
    }
   ],
   "source": [
    "test"
   ]
  },
  {
   "cell_type": "code",
   "execution_count": 74,
   "metadata": {},
   "outputs": [],
   "source": [
    "for index, row in test.iterrows():\n",
    "    test.at[index, 'KnnShrDem'] = -2"
   ]
  },
  {
   "cell_type": "code",
   "execution_count": 75,
   "metadata": {},
   "outputs": [
    {
     "data": {
      "text/html": [
       "<div>\n",
       "<style scoped>\n",
       "    .dataframe tbody tr th:only-of-type {\n",
       "        vertical-align: middle;\n",
       "    }\n",
       "\n",
       "    .dataframe tbody tr th {\n",
       "        vertical-align: top;\n",
       "    }\n",
       "\n",
       "    .dataframe thead th {\n",
       "        text-align: right;\n",
       "    }\n",
       "</style>\n",
       "<table border=\"1\" class=\"dataframe\">\n",
       "  <thead>\n",
       "    <tr style=\"text-align: right;\">\n",
       "      <th></th>\n",
       "      <th>Dem</th>\n",
       "      <th>KnnShrDem</th>\n",
       "      <th>geometry</th>\n",
       "    </tr>\n",
       "  </thead>\n",
       "  <tbody>\n",
       "    <tr>\n",
       "      <th>0</th>\n",
       "      <td>1</td>\n",
       "      <td>-2.0</td>\n",
       "      <td>POINT (3428778.550 8008995.104)</td>\n",
       "    </tr>\n",
       "    <tr>\n",
       "      <th>1</th>\n",
       "      <td>1</td>\n",
       "      <td>-2.0</td>\n",
       "      <td>POINT (3431511.812 8007804.096)</td>\n",
       "    </tr>\n",
       "    <tr>\n",
       "      <th>2</th>\n",
       "      <td>1</td>\n",
       "      <td>-2.0</td>\n",
       "      <td>POINT (3432839.395 8009441.985)</td>\n",
       "    </tr>\n",
       "    <tr>\n",
       "      <th>3</th>\n",
       "      <td>0</td>\n",
       "      <td>-2.0</td>\n",
       "      <td>POINT (3437220.267 8003770.772)</td>\n",
       "    </tr>\n",
       "    <tr>\n",
       "      <th>4</th>\n",
       "      <td>0</td>\n",
       "      <td>-2.0</td>\n",
       "      <td>POINT (3429809.226 8006203.248)</td>\n",
       "    </tr>\n",
       "  </tbody>\n",
       "</table>\n",
       "</div>"
      ],
      "text/plain": [
       "   Dem  KnnShrDem                         geometry\n",
       "0    1       -2.0  POINT (3428778.550 8008995.104)\n",
       "1    1       -2.0  POINT (3431511.812 8007804.096)\n",
       "2    1       -2.0  POINT (3432839.395 8009441.985)\n",
       "3    0       -2.0  POINT (3437220.267 8003770.772)\n",
       "4    0       -2.0  POINT (3429809.226 8006203.248)"
      ]
     },
     "execution_count": 75,
     "metadata": {},
     "output_type": "execute_result"
    }
   ],
   "source": [
    "test"
   ]
  },
  {
   "cell_type": "code",
   "execution_count": 69,
   "metadata": {},
   "outputs": [
    {
     "ename": "NameError",
     "evalue": "name 'cKD' is not defined",
     "output_type": "error",
     "traceback": [
      "\u001b[1;31m---------------------------------------------------------------------------\u001b[0m",
      "\u001b[1;31mNameError\u001b[0m                                 Traceback (most recent call last)",
      "\u001b[1;32m<ipython-input-69-a4f7329bcd4e>\u001b[0m in \u001b[0;36m<module>\u001b[1;34m\u001b[0m\n\u001b[1;32m----> 1\u001b[1;33m \u001b[0mtree\u001b[0m \u001b[1;33m=\u001b[0m \u001b[0mcKD\u001b[0m\u001b[1;33m\u001b[0m\u001b[1;33m\u001b[0m\u001b[0m\n\u001b[0m\u001b[0;32m      2\u001b[0m \u001b[1;32mfor\u001b[0m \u001b[0mindex\u001b[0m\u001b[1;33m,\u001b[0m \u001b[0mrow\u001b[0m \u001b[1;32min\u001b[0m \u001b[0mtest\u001b[0m\u001b[1;33m.\u001b[0m\u001b[0miterrows\u001b[0m\u001b[1;33m(\u001b[0m\u001b[1;33m)\u001b[0m\u001b[1;33m:\u001b[0m\u001b[1;33m\u001b[0m\u001b[1;33m\u001b[0m\u001b[0m\n\u001b[0;32m      3\u001b[0m     \u001b[0mrow\u001b[0m\u001b[1;33m[\u001b[0m\u001b[1;34m'KnnShrDem'\u001b[0m\u001b[1;33m]\u001b[0m \u001b[1;33m=\u001b[0m \u001b[0msum\u001b[0m\u001b[1;33m(\u001b[0m\u001b[0mtest\u001b[0m\u001b[1;33m[\u001b[0m\u001b[1;34m'Dem'\u001b[0m\u001b[1;33m]\u001b[0m\u001b[1;33m[\u001b[0m\u001b[0mii\u001b[0m\u001b[1;33m[\u001b[0m\u001b[0mits\u001b[0m\u001b[1;33m]\u001b[0m\u001b[1;33m]\u001b[0m\u001b[1;33m)\u001b[0m \u001b[1;33m/\u001b[0m \u001b[0mk\u001b[0m\u001b[1;33m\u001b[0m\u001b[1;33m\u001b[0m\u001b[0m\n",
      "\u001b[1;31mNameError\u001b[0m: name 'cKD' is not defined"
     ]
    }
   ],
   "source": [
    "tree = cKD\n",
    "for index, row in test.iterrows():\n",
    "    row['KnnShrDem'] = sum(test['Dem'][ii[its]]) / k"
   ]
  },
  {
   "cell_type": "code",
   "execution_count": null,
   "metadata": {},
   "outputs": [],
   "source": []
  }
 ],
 "metadata": {
  "kernelspec": {
   "display_name": "Python [conda env:geo]",
   "language": "python",
   "name": "conda-env-geo-py"
  },
  "language_info": {
   "codemirror_mode": {
    "name": "ipython",
    "version": 3
   },
   "file_extension": ".py",
   "mimetype": "text/x-python",
   "name": "python",
   "nbconvert_exporter": "python",
   "pygments_lexer": "ipython3",
   "version": "3.8.3"
  }
 },
 "nbformat": 4,
 "nbformat_minor": 4
}
